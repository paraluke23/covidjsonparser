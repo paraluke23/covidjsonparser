{
 "cells": [
  {
   "cell_type": "code",
   "execution_count": 13,
   "metadata": {},
   "outputs": [],
   "source": [
    "# This Python 3 file can read JSON from covid research papers and write to txt file on disk\n",
    "\n",
    "import numpy as np # linear algebra\n",
    "import pandas as pd # data processing, CSV file I/O (e.g. pd.read_csv)\n",
    "import json\n",
    "\n",
    "# Input data files are available in the local directory.\n",
    "\n",
    "import os\n",
    "for dirname, _, filenames in os.walk('YOUR_INPUT_DIR'):\n",
    "    for filename in filenames:\n",
    "        readfile=(os.path.join(dirname, filename))\n",
    "        with open(readfile) as json_file:\n",
    "            data = json.load(json_file)\n",
    "            file = open(\"YOUR_OUTPUT_DIR\"+filename+\".txt\",\"w\") \n",
    "            for p in data['abstract']:             \n",
    "                #print(p['text'])\n",
    "                file.write(p['text'].encode('utf-8')) \n",
    "                file.write('\\r\\n\\r\\n')\n",
    "            file.close()   "
   ]
  },
  {
   "cell_type": "code",
   "execution_count": null,
   "metadata": {},
   "outputs": [],
   "source": []
  }
 ],
 "metadata": {
  "kernelspec": {
   "display_name": "Python 3",
   "language": "python",
   "name": "python3"
  },
  "language_info": {
   "codemirror_mode": {
    "name": "ipython",
    "version": 2
   },
   "file_extension": ".py",
   "mimetype": "text/x-python",
   "name": "python",
   "nbconvert_exporter": "python",
   "pygments_lexer": "ipython2",
   "version": "2.7.17"
  }
 },
 "nbformat": 4,
 "nbformat_minor": 2
}
